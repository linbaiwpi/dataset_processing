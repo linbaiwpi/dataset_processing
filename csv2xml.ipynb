{
 "cells": [
  {
   "cell_type": "code",
   "execution_count": 35,
   "metadata": {},
   "outputs": [],
   "source": [
    "import os\n",
    "import shutil\n",
    "from shutil import copyfile\n",
    "import pandas as pd\n",
    "import csv\n",
    "import cv2\n",
    "\n",
    "import xml.etree.ElementTree as ET"
   ]
  },
  {
   "cell_type": "code",
   "execution_count": 12,
   "metadata": {},
   "outputs": [
    {
     "name": "stdout",
     "output_type": "stream",
     "text": [
      "(7855, 12)\n"
     ]
    }
   ],
   "source": [
    "dataFrame = pd.read_csv('allAnnotations.csv')\n",
    "print(dataFrame.shape)"
   ]
  },
  {
   "cell_type": "code",
   "execution_count": 13,
   "metadata": {},
   "outputs": [],
   "source": [
    "def create_xml(filename, img_size, category, bound_box):\n",
    "    annotation = ET.Element(\"annotation\")\n",
    "    ET.SubElement(annotation, \"filename\").text=filename\n",
    "    \n",
    "    size = ET.SubElement(annotation, \"size\")\n",
    "    ET.SubElement(size, \"width\").text = str(img_size[0])\n",
    "    ET.SubElement(size, \"height\").text = str(img_size[1])\n",
    "\n",
    "    #num_object = ET.SubElement(annotation, \"num_object\").text=str(1)\n",
    "    object1 = ET.SubElement(annotation, \"object\")\n",
    "    ET.SubElement(object1, \"name\").text = category\n",
    "    bndbox = ET.SubElement(object1, \"bndbox\")\n",
    "    ET.SubElement(bndbox, \"xmax\").text = str(bound_box[0])\n",
    "    ET.SubElement(bndbox, \"xmin\").text = str(bound_box[1])\n",
    "    ET.SubElement(bndbox, \"ymax\").text = str(bound_box[2])\n",
    "    ET.SubElement(bndbox, \"ymin\").text = str(bound_box[3])\n",
    "\n",
    "    tree = ET.ElementTree(annotation)\n",
    "    tree.write(filename+'.xml')\n",
    "    \n",
    "def insert_xml(filename, category, bound_box):\n",
    "    annotation = ET.parse(filename+'.xml').getroot()\n",
    "    object_new = ET.SubElement(annotation, 'object')\n",
    "    ET.SubElement(object_new, \"name\").text = category\n",
    "    bndbox = ET.SubElement(object_new, \"bndbox\")\n",
    "    ET.SubElement(bndbox, \"xmax\").text = str(bound_box[0])\n",
    "    ET.SubElement(bndbox, \"xmin\").text = str(bound_box[1])\n",
    "    ET.SubElement(bndbox, \"ymax\").text = str(bound_box[2])\n",
    "    ET.SubElement(bndbox, \"ymin\").text = str(bound_box[3])\n",
    "    tree = ET.ElementTree(annotation)\n",
    "    tree.write(filename+'.xml')"
   ]
  },
  {
   "cell_type": "code",
   "execution_count": 43,
   "metadata": {},
   "outputs": [
    {
     "name": "stdout",
     "output_type": "stream",
     "text": [
      "image name:\n",
      "aiua120214-0/frameAnnotations-DataLog02142012_external_camera.avi_annotations/stop_1330545910.avi_image0.png\n",
      "img_list:\n",
      "['stop_1330545910.avi_image0']\n",
      "image name:\n",
      "aiua120214-0/frameAnnotations-DataLog02142012_external_camera.avi_annotations/stop_1330545910.avi_image0.png\n",
      "img_list:\n",
      "['stop_1330545910.avi_image0', 'stop_1330545910.avi_image0']\n",
      "image name:\n",
      "aiua120214-0/frameAnnotations-DataLog02142012_external_camera.avi_annotations/stop_1330545910.avi_image1.png\n",
      "img_list:\n",
      "['stop_1330545910.avi_image0', 'stop_1330545910.avi_image0', 'stop_1330545910.avi_image1']\n"
     ]
    }
   ],
   "source": [
    "DEBUG = False\n",
    "if DEBUG:\n",
    "    i = 0\n",
    "\n",
    "img_list = list()\n",
    "\n",
    "for index,row in dataFrame.iterrows():\n",
    "    if DEBUG:\n",
    "        if i == 3:\n",
    "            break\n",
    "    img_name = row['Filename']\n",
    "    if DEBUG:\n",
    "        print(\"image name:\")\n",
    "        print(img_name)\n",
    "\n",
    "    img = cv2.imread(img_name) # BGR image\n",
    "        \n",
    "    img_size = img.shape[:2]\n",
    "    img_cate = row['Annotation tag']\n",
    "    img_bbox = [row['Upper left corner X'],row['Lower right corner X'],\n",
    "                row['Upper left corner Y'],row['Lower right corner Y']]\n",
    "    xml_name = img_name.split('.png')[0].split('/')[-1]\n",
    "    \n",
    "    if xml_name in img_list:\n",
    "        insert_xml(xml_name, img_cate, img_bbox)\n",
    "    else:\n",
    "        create_xml(xml_name, img_size, img_cate, img_bbox)\n",
    "    \n",
    "    img_copy = 'cp %s ./JPEGImages' % img_name\n",
    "    img_move = 'mv %s.xml ./Annotations' % img_name\n",
    "    img_list.append(xml_name)\n",
    "    \n",
    "    if DEBUG:\n",
    "        print(\"img_list:\")\n",
    "        print(img_list)\n",
    "        \n",
    "    os.system(img_copy)\n",
    "    os.system(xml_move)\n",
    "    if DEBUG:\n",
    "        i = i + 1"
   ]
  },
  {
   "cell_type": "code",
   "execution_count": null,
   "metadata": {},
   "outputs": [],
   "source": []
  }
 ],
 "metadata": {
  "kernelspec": {
   "display_name": "Python 3",
   "language": "python",
   "name": "python3"
  },
  "language_info": {
   "codemirror_mode": {
    "name": "ipython",
    "version": 3
   },
   "file_extension": ".py",
   "mimetype": "text/x-python",
   "name": "python",
   "nbconvert_exporter": "python",
   "pygments_lexer": "ipython3",
   "version": "3.7.1"
  }
 },
 "nbformat": 4,
 "nbformat_minor": 2
}
